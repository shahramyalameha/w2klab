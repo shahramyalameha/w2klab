{
 "cells": [
  {
   "cell_type": "code",
   "execution_count": null,
   "metadata": {},
   "outputs": [],
   "source": [
    "%matplotlib inline\n",
    "import numpy as np\n",
    "import matplotlib as mpl\n",
    "import matplotlib.pyplot as plt\n",
    "\n",
    "mpl.rcParams['figure.titlesize'] = 'xx-large'\n",
    "mpl.rcParams['legend.fontsize'] = 'large'\n",
    "mpl.rcParams['axes.labelsize'] = 'x-large'\n",
    "mpl.rcParams['xtick.labelsize'] = 'xx-large'\n",
    "mpl.rcParams['ytick.labelsize'] = 'xx-large'"
   ]
  },
  {
   "cell_type": "code",
   "execution_count": null,
   "metadata": {},
   "outputs": [],
   "source": [
    "CASE = CASE NAME HERE\n",
    "W2W = W2W NAME HERE"
   ]
  },
  {
   "cell_type": "code",
   "execution_count": null,
   "metadata": {},
   "outputs": [],
   "source": [
    "!cat {W2W}.w2w"
   ]
  },
  {
   "cell_type": "code",
   "execution_count": null,
   "metadata": {},
   "outputs": [],
   "source": [
    "k, ene, chg, k_ticks, k_labels = np.load(f'{CASE}/spaghetti.npz').values()\n",
    "\n",
    "k_max = k[-1]\n",
    "k /= k_max\n",
    "k_ticks /= k_max\n",
    "k_labels = ['Γ' if s == 'G' else s for s in k_labels]"
   ]
  },
  {
   "cell_type": "code",
   "execution_count": null,
   "metadata": {},
   "outputs": [],
   "source": [
    "i = 0\n",
    "with open(f'{CASE}/{W2W}/{W2W}_band.dat') as f:\n",
    "    for line in f:\n",
    "        if not line.strip():  # empty line\n",
    "            break\n",
    "        i += 1\n",
    "                \n",
    "x, y = np.loadtxt(f'{CASE}/{W2W}/{W2W}_band.dat').T\n",
    "\n",
    "x = x[:i]\n",
    "x /= x[-1]\n",
    "y = y.reshape((-1, i))"
   ]
  },
  {
   "cell_type": "code",
   "execution_count": null,
   "metadata": {},
   "outputs": [],
   "source": [
    "# Wannier plot\n",
    "def plot_wannier(lim):\n",
    "    fig, ax = plt.subplots()\n",
    "\n",
    "    # Fermi energy\n",
    "    ax.axhline(0, c='k', ls='--', lw=1, alpha=.3)\n",
    "\n",
    "    # spaghetti\n",
    "    for i in range(ene.shape[0]):\n",
    "        ax.plot(k, ene[i, :], 'C0-', lw=1)\n",
    "\n",
    "    # Wannier\n",
    "    for i in range(y.shape[0]):\n",
    "        ax.plot(x, y[i, :], 'C1-', lw=3, alpha=.3)\n",
    "        \n",
    "    ax.set_xlim((0, 1))\n",
    "    ax.set_ylim(lim)\n",
    "\n",
    "    ax.set_xticks(k_ticks)\n",
    "    ax.set_xticklabels(k_labels)\n",
    "\n",
    "    ax.grid(True, axis='x')\n",
    "\n",
    "    ax.set_ylabel('Energy [eV]')\n",
    "\n",
    "    fig.tight_layout()"
   ]
  },
  {
   "cell_type": "code",
   "execution_count": null,
   "metadata": {},
   "outputs": [],
   "source": [
    "plot_wannier((-15, +10))\n",
    "plt.savefig(f'{W2W}.png')"
   ]
  },
  {
   "cell_type": "code",
   "execution_count": null,
   "metadata": {},
   "outputs": [],
   "source": []
  }
 ],
 "metadata": {
  "kernelspec": {
   "display_name": "Python 3",
   "language": "python",
   "name": "python3"
  },
  "language_info": {
   "codemirror_mode": {
    "name": "ipython",
    "version": 3
   },
   "file_extension": ".py",
   "mimetype": "text/x-python",
   "name": "python",
   "nbconvert_exporter": "python",
   "pygments_lexer": "ipython3",
   "version": "3.6.9"
  }
 },
 "nbformat": 4,
 "nbformat_minor": 4
}
