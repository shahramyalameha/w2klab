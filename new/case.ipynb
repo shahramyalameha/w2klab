{
 "cells": [
  {
   "cell_type": "code",
   "execution_count": null,
   "metadata": {},
   "outputs": [],
   "source": [
    "%matplotlib inline\n",
    "import numpy as np\n",
    "import matplotlib as mpl\n",
    "import matplotlib.pyplot as plt\n",
    "\n",
    "mpl.rcParams['figure.titlesize'] = 'xx-large'\n",
    "mpl.rcParams['legend.fontsize'] = 'large'\n",
    "mpl.rcParams['axes.labelsize'] = 'x-large'\n",
    "mpl.rcParams['xtick.labelsize'] = 'xx-large'\n",
    "mpl.rcParams['ytick.labelsize'] = 'xx-large'"
   ]
  },
  {
   "cell_type": "code",
   "execution_count": null,
   "metadata": {},
   "outputs": [],
   "source": [
    "CASE = CASE NAME HERE\n",
    "CHG = 1000"
   ]
  },
  {
   "cell_type": "code",
   "execution_count": null,
   "metadata": {},
   "outputs": [],
   "source": [
    "k, ene, chg, k_ticks, k_labels = np.load(f'{CASE}/spaghetti.npz').values()\n",
    "\n",
    "k_max = k[-1]\n",
    "k /= k_max\n",
    "k_ticks /= k_max\n",
    "k_labels = ['Γ' if s == 'G' else s for s in k_labels]"
   ]
  },
  {
   "cell_type": "code",
   "execution_count": null,
   "metadata": {},
   "outputs": [],
   "source": [
    "# spaghetti plot\n",
    "def plot_spaghetti(lim):\n",
    "    n_bands = ene.shape[0]\n",
    "    \n",
    "    fig, ax = plt.subplots()\n",
    "\n",
    "    # Fermi energy\n",
    "    ax.axhline(0, c='k', ls='--', lw=1, alpha=.3)\n",
    "\n",
    "    # spaghetti\n",
    "    for i in range(n_bands):\n",
    "        ax.plot(k, ene[i, :], 'C0-', lw=1)\n",
    "\n",
    "    ax.set_xlim((0, 1))\n",
    "    ax.set_ylim(lim)\n",
    "\n",
    "    ax.set_xticks(k_ticks)\n",
    "    ax.set_xticklabels(k_labels)\n",
    "\n",
    "    ax.grid(True, axis='x')\n",
    "\n",
    "    ax.set_title(f'{CASE}')\n",
    "    ax.set_ylabel('Energy [eV]')\n",
    "\n",
    "    fig.tight_layout()\n",
    "\n",
    "\n",
    "# orbital character plot\n",
    "def plot_orb(atom, orb, lim, c='C1'):\n",
    "    n_bands = ene.shape[0]\n",
    "    \n",
    "    fig, ax = plt.subplots()\n",
    "\n",
    "    # Fermi energy\n",
    "    ax.axhline(0, c='k', ls='--', lw=1, alpha=.3)\n",
    "\n",
    "    # spaghetti\n",
    "    for i in range(n_bands):\n",
    "        ax.plot(k, ene[i, :], 'C0-', lw=1)\n",
    "\n",
    "    # character\n",
    "    for i in range(n_bands):\n",
    "        ax.scatter(k, ene[i, :], CHG * chg[atom][orb][i, :], c=c, marker='o')\n",
    "\n",
    "    ax.set_xlim((0, 1))\n",
    "    ax.set_ylim(lim)\n",
    "\n",
    "    ax.set_xticks(k_ticks)\n",
    "    ax.set_xticklabels(k_labels)\n",
    "\n",
    "    ax.grid(True, axis='x')\n",
    "\n",
    "    ax.set_title(f'{CASE} {atom} ${orb}$')\n",
    "    ax.set_ylabel('Energy [eV]')\n",
    "\n",
    "    fig.tight_layout()"
   ]
  },
  {
   "cell_type": "code",
   "execution_count": null,
   "metadata": {},
   "outputs": [],
   "source": [
    "plot_spaghetti((-15, +10))\n",
    "# plt.savefig(f'{CASE}.png')"
   ]
  },
  {
   "cell_type": "code",
   "execution_count": null,
   "metadata": {},
   "outputs": [],
   "source": [
    "# total s p pz px+py d dz2 dxy dx2y2 dxz+dyz f\n",
    "plot_orb(ATOM NAME HERE, 'total', (-15, +10))"
   ]
  },
  {
   "cell_type": "code",
   "execution_count": null,
   "metadata": {},
   "outputs": [],
   "source": []
  }
 ],
 "metadata": {
  "kernelspec": {
   "display_name": "Python 3",
   "language": "python",
   "name": "python3"
  },
  "language_info": {
   "codemirror_mode": {
    "name": "ipython",
    "version": 3
   },
   "file_extension": ".py",
   "mimetype": "text/x-python",
   "name": "python",
   "nbconvert_exporter": "python",
   "pygments_lexer": "ipython3",
   "version": "3.6.9"
  }
 },
 "nbformat": 4,
 "nbformat_minor": 4
}
